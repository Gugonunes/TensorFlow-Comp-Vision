{
  "nbformat": 4,
  "nbformat_minor": 0,
  "metadata": {
    "colab": {
      "provenance": []
    },
    "kernelspec": {
      "name": "python3",
      "display_name": "Python 3"
    },
    "language_info": {
      "name": "python"
    }
  },
  "cells": [
    {
      "cell_type": "markdown",
      "source": [
        "Tensors are multi dimensional arrays\n",
        "An array is an ordered arrangment of numbers"
      ],
      "metadata": {
        "id": "YOjRfd3qrmZl"
      }
    },
    {
      "cell_type": "code",
      "execution_count": 1,
      "metadata": {
        "id": "by1B6NKwriAx"
      },
      "outputs": [],
      "source": [
        "import tensorflow as tf"
      ]
    },
    {
      "cell_type": "code",
      "source": [
        "tensor_zero_d = tf.constant(4)\n",
        "print(tensor_zero_d)"
      ],
      "metadata": {
        "colab": {
          "base_uri": "https://localhost:8080/"
        },
        "id": "jXHuGU6or6kl",
        "outputId": "1caa982a-8c2b-4fc8-ce69-d634cb2e908a"
      },
      "execution_count": 2,
      "outputs": [
        {
          "output_type": "stream",
          "name": "stdout",
          "text": [
            "tf.Tensor(4, shape=(), dtype=int32)\n"
          ]
        }
      ]
    },
    {
      "cell_type": "code",
      "source": [
        "tensor_one_d = tf.constant([2,0,-3,8,90], dtype=tf.float32)\n",
        "print(tensor_one_d)\n",
        "casted_tensor_one_d = tf.cast(tensor_one_d, dtype=tf.bool)\n",
        "print(casted_tensor_one_d)"
      ],
      "metadata": {
        "colab": {
          "base_uri": "https://localhost:8080/"
        },
        "id": "8cJD_oF_r6iS",
        "outputId": "fd9c035a-07e5-4578-a54d-9b9efd858173"
      },
      "execution_count": 15,
      "outputs": [
        {
          "output_type": "stream",
          "name": "stdout",
          "text": [
            "tf.Tensor([ 2.  0. -3.  8. 90.], shape=(5,), dtype=float32)\n",
            "tf.Tensor([ True False  True  True  True], shape=(5,), dtype=bool)\n"
          ]
        }
      ]
    },
    {
      "cell_type": "code",
      "source": [
        "tensor_bool = tf.constant([True, True, False])\n",
        "print(tensor_bool)"
      ],
      "metadata": {
        "colab": {
          "base_uri": "https://localhost:8080/"
        },
        "id": "EdI19NbZDCOi",
        "outputId": "e500b976-05eb-4bc9-93dc-23324fa9d768"
      },
      "execution_count": 16,
      "outputs": [
        {
          "output_type": "stream",
          "name": "stdout",
          "text": [
            "tf.Tensor([ True  True False], shape=(3,), dtype=bool)\n"
          ]
        }
      ]
    },
    {
      "cell_type": "code",
      "source": [
        "tensor_string = tf.constant([\"Hello World!\", \"hi\"])\n",
        "print(tensor_string)"
      ],
      "metadata": {
        "colab": {
          "base_uri": "https://localhost:8080/"
        },
        "id": "KqJBXKIkDCE_",
        "outputId": "e49196ff-0868-4a9b-cb47-6b93f7654019"
      },
      "execution_count": 19,
      "outputs": [
        {
          "output_type": "stream",
          "name": "stdout",
          "text": [
            "tf.Tensor([b'Hello World!' b'hi'], shape=(2,), dtype=string)\n"
          ]
        }
      ]
    },
    {
      "cell_type": "code",
      "source": [
        "tensor_two_d = tf.constant([\n",
        "    [1,2,0],\n",
        "    [3,5,-1],\n",
        "    [1,5,6],\n",
        "    [2,3,8]\n",
        "])\n",
        "print(tensor_two_d)"
      ],
      "metadata": {
        "colab": {
          "base_uri": "https://localhost:8080/"
        },
        "id": "TDFY5ZOYr6cv",
        "outputId": "2f235334-29a6-4672-d70e-cc9ed979aced"
      },
      "execution_count": 6,
      "outputs": [
        {
          "output_type": "stream",
          "name": "stdout",
          "text": [
            "tf.Tensor(\n",
            "[[ 1  2  0]\n",
            " [ 3  5 -1]\n",
            " [ 1  5  6]\n",
            " [ 2  3  8]], shape=(4, 3), dtype=int32)\n"
          ]
        }
      ]
    },
    {
      "cell_type": "code",
      "source": [
        "tensor_three_d = tf.constant([\n",
        "    [[1,2,0],\n",
        "    [3,5,-1]],\n",
        "\n",
        "    [[10,2,0],\n",
        "    [1,0,2]],\n",
        "\n",
        "    [[5,8,0],\n",
        "    [2,7,0]],\n",
        "\n",
        "    [[2,1,9],\n",
        "    [4,-3,32]]\n",
        "])\n",
        "print(tensor_three_d)"
      ],
      "metadata": {
        "colab": {
          "base_uri": "https://localhost:8080/"
        },
        "id": "DI2AZ6DRr6aa",
        "outputId": "bf74ab64-3396-401d-a33e-11a8720cf6be"
      },
      "execution_count": 7,
      "outputs": [
        {
          "output_type": "stream",
          "name": "stdout",
          "text": [
            "tf.Tensor(\n",
            "[[[ 1  2  0]\n",
            "  [ 3  5 -1]]\n",
            "\n",
            " [[10  2  0]\n",
            "  [ 1  0  2]]\n",
            "\n",
            " [[ 5  8  0]\n",
            "  [ 2  7  0]]\n",
            "\n",
            " [[ 2  1  9]\n",
            "  [ 4 -3 32]]], shape=(4, 2, 3), dtype=int32)\n"
          ]
        }
      ]
    },
    {
      "cell_type": "code",
      "source": [
        "tensor_three_d.ndim"
      ],
      "metadata": {
        "colab": {
          "base_uri": "https://localhost:8080/"
        },
        "id": "hD6IwOsYr6X3",
        "outputId": "f1fe7f19-c388-4ebe-9b6e-6fd93a27b0bd"
      },
      "execution_count": 9,
      "outputs": [
        {
          "output_type": "execute_result",
          "data": {
            "text/plain": [
              "3"
            ]
          },
          "metadata": {},
          "execution_count": 9
        }
      ]
    },
    {
      "cell_type": "code",
      "source": [
        "tensor_four_d = tf.constant([\n",
        "    [\n",
        "      [[1,2,0],\n",
        "      [3,5,-1]],\n",
        "\n",
        "      [[10,2,0],\n",
        "      [1,0,2]],\n",
        "\n",
        "      [[5,8,0],\n",
        "      [2,7,0]],\n",
        "\n",
        "      [[2,1,9],\n",
        "      [4,-3,32]]\n",
        "    ],\n",
        "    [\n",
        "      [[1,2,0],\n",
        "      [3,5,-1]],\n",
        "\n",
        "      [[10,2,0],\n",
        "      [1,0,2]],\n",
        "\n",
        "      [[5,8,0],\n",
        "      [2,7,0]],\n",
        "\n",
        "      [[2,1,9],\n",
        "      [4,-3,32]]\n",
        "    ],\n",
        "    [\n",
        "      [[1,2,0],\n",
        "      [3,5,-1]],\n",
        "\n",
        "      [[10,2,0],\n",
        "      [1,0,2]],\n",
        "\n",
        "      [[5,8,0],\n",
        "      [2,7,0]],\n",
        "\n",
        "      [[2,1,9],\n",
        "      [4,-3,32]]\n",
        "    ]\n",
        "])\n",
        "print(tensor_four_d)"
      ],
      "metadata": {
        "colab": {
          "base_uri": "https://localhost:8080/"
        },
        "id": "oypk4-eCr6Sr",
        "outputId": "5c70797f-c595-4914-8f6f-021534b65096"
      },
      "execution_count": 11,
      "outputs": [
        {
          "output_type": "stream",
          "name": "stdout",
          "text": [
            "tf.Tensor(\n",
            "[[[[ 1  2  0]\n",
            "   [ 3  5 -1]]\n",
            "\n",
            "  [[10  2  0]\n",
            "   [ 1  0  2]]\n",
            "\n",
            "  [[ 5  8  0]\n",
            "   [ 2  7  0]]\n",
            "\n",
            "  [[ 2  1  9]\n",
            "   [ 4 -3 32]]]\n",
            "\n",
            "\n",
            " [[[ 1  2  0]\n",
            "   [ 3  5 -1]]\n",
            "\n",
            "  [[10  2  0]\n",
            "   [ 1  0  2]]\n",
            "\n",
            "  [[ 5  8  0]\n",
            "   [ 2  7  0]]\n",
            "\n",
            "  [[ 2  1  9]\n",
            "   [ 4 -3 32]]]\n",
            "\n",
            "\n",
            " [[[ 1  2  0]\n",
            "   [ 3  5 -1]]\n",
            "\n",
            "  [[10  2  0]\n",
            "   [ 1  0  2]]\n",
            "\n",
            "  [[ 5  8  0]\n",
            "   [ 2  7  0]]\n",
            "\n",
            "  [[ 2  1  9]\n",
            "   [ 4 -3 32]]]], shape=(3, 4, 2, 3), dtype=int32)\n"
          ]
        }
      ]
    },
    {
      "cell_type": "code",
      "source": [
        "import numpy as np"
      ],
      "metadata": {
        "id": "3U_aLPdur6Qh"
      },
      "execution_count": 20,
      "outputs": []
    },
    {
      "cell_type": "code",
      "source": [
        "np_array = np.array([1,2,4])\n",
        "print(np_array)"
      ],
      "metadata": {
        "colab": {
          "base_uri": "https://localhost:8080/"
        },
        "id": "L3qEsdfDDb3g",
        "outputId": "af497fd3-afc2-48a9-b772-404b0dd76d41"
      },
      "execution_count": 21,
      "outputs": [
        {
          "output_type": "stream",
          "name": "stdout",
          "text": [
            "[1 2 4]\n"
          ]
        }
      ]
    },
    {
      "cell_type": "code",
      "source": [
        "converted_tensor = tf.convert_to_tensor(np_array)\n",
        "print(converted_tensor)"
      ],
      "metadata": {
        "colab": {
          "base_uri": "https://localhost:8080/"
        },
        "id": "7iFiDS7QDghz",
        "outputId": "a659f62a-69bd-4012-cee4-777bbe077f3c"
      },
      "execution_count": 23,
      "outputs": [
        {
          "output_type": "stream",
          "name": "stdout",
          "text": [
            "tf.Tensor([1 2 4], shape=(3,), dtype=int64)\n"
          ]
        }
      ]
    },
    {
      "cell_type": "code",
      "source": [
        "eye_tensor = tf.eye(\n",
        "    num_rows = 3,\n",
        "    num_columns=None,\n",
        "    batch_shape=[2,4],\n",
        "    dtype=tf.dtypes.float32,\n",
        "    name=None\n",
        ")\n",
        "print(eye_tensor)"
      ],
      "metadata": {
        "colab": {
          "base_uri": "https://localhost:8080/"
        },
        "id": "qvsJberoDkVV",
        "outputId": "e3234361-ad8c-41ef-ed63-f9f71a4370b4"
      },
      "execution_count": 27,
      "outputs": [
        {
          "output_type": "stream",
          "name": "stdout",
          "text": [
            "tf.Tensor(\n",
            "[[[[1. 0. 0.]\n",
            "   [0. 1. 0.]\n",
            "   [0. 0. 1.]]\n",
            "\n",
            "  [[1. 0. 0.]\n",
            "   [0. 1. 0.]\n",
            "   [0. 0. 1.]]\n",
            "\n",
            "  [[1. 0. 0.]\n",
            "   [0. 1. 0.]\n",
            "   [0. 0. 1.]]\n",
            "\n",
            "  [[1. 0. 0.]\n",
            "   [0. 1. 0.]\n",
            "   [0. 0. 1.]]]\n",
            "\n",
            "\n",
            " [[[1. 0. 0.]\n",
            "   [0. 1. 0.]\n",
            "   [0. 0. 1.]]\n",
            "\n",
            "  [[1. 0. 0.]\n",
            "   [0. 1. 0.]\n",
            "   [0. 0. 1.]]\n",
            "\n",
            "  [[1. 0. 0.]\n",
            "   [0. 1. 0.]\n",
            "   [0. 0. 1.]]\n",
            "\n",
            "  [[1. 0. 0.]\n",
            "   [0. 1. 0.]\n",
            "   [0. 0. 1.]]]], shape=(2, 4, 3, 3), dtype=float32)\n"
          ]
        }
      ]
    },
    {
      "cell_type": "code",
      "source": [
        "fill_tensor = tf.fill([2,3], 9)\n",
        "print(fill_tensor)"
      ],
      "metadata": {
        "colab": {
          "base_uri": "https://localhost:8080/"
        },
        "id": "I8qtnGFHD8B3",
        "outputId": "897b43b2-0326-4047-f073-3909c33b974f"
      },
      "execution_count": 29,
      "outputs": [
        {
          "output_type": "stream",
          "name": "stdout",
          "text": [
            "tf.Tensor(\n",
            "[[9 9 9]\n",
            " [9 9 9]], shape=(2, 3), dtype=int32)\n"
          ]
        }
      ]
    },
    {
      "cell_type": "code",
      "source": [
        "tensor_ones = tf.ones(\n",
        "    shape=[2,2],\n",
        "    dtype=tf.dtypes.float32,\n",
        "    name=None\n",
        ")\n",
        "print(tensor_ones)"
      ],
      "metadata": {
        "colab": {
          "base_uri": "https://localhost:8080/"
        },
        "id": "vfuKeQ6FEigv",
        "outputId": "669291d4-bf98-4586-b448-066e7bad9087"
      },
      "execution_count": 31,
      "outputs": [
        {
          "output_type": "stream",
          "name": "stdout",
          "text": [
            "tf.Tensor(\n",
            "[[1. 1.]\n",
            " [1. 1.]], shape=(2, 2), dtype=float32)\n"
          ]
        }
      ]
    },
    {
      "cell_type": "code",
      "source": [
        "ones_line_tensor = tf.ones_like(fill_tensor)\n",
        "print(ones_line_tensor)"
      ],
      "metadata": {
        "colab": {
          "base_uri": "https://localhost:8080/"
        },
        "id": "P1VH30TSEifA",
        "outputId": "a1ab46f3-449a-4674-c1b2-74500d06e71c"
      },
      "execution_count": 32,
      "outputs": [
        {
          "output_type": "stream",
          "name": "stdout",
          "text": [
            "tf.Tensor(\n",
            "[[1 1 1]\n",
            " [1 1 1]], shape=(2, 3), dtype=int32)\n"
          ]
        }
      ]
    },
    {
      "cell_type": "code",
      "source": [
        "tensor_zeros = tf.zeros(\n",
        "    shape=[2,2],\n",
        "    dtype=tf.dtypes.float32,\n",
        "    name=None\n",
        ")\n",
        "print(tensor_zeros)"
      ],
      "metadata": {
        "colab": {
          "base_uri": "https://localhost:8080/"
        },
        "id": "8nH4EG8pEic0",
        "outputId": "764da7dd-faa9-4248-d1de-8184e890dde2"
      },
      "execution_count": 33,
      "outputs": [
        {
          "output_type": "stream",
          "name": "stdout",
          "text": [
            "tf.Tensor(\n",
            "[[0. 0.]\n",
            " [0. 0.]], shape=(2, 2), dtype=float32)\n"
          ]
        }
      ]
    },
    {
      "cell_type": "code",
      "source": [
        "print(tf.shape(tensor_three_d))"
      ],
      "metadata": {
        "colab": {
          "base_uri": "https://localhost:8080/"
        },
        "id": "9ctS9FNRGJ1c",
        "outputId": "6eaa478e-1c1d-4806-bdfe-1eca25b9ed22"
      },
      "execution_count": 34,
      "outputs": [
        {
          "output_type": "stream",
          "name": "stdout",
          "text": [
            "tf.Tensor([4 2 3], shape=(3,), dtype=int32)\n"
          ]
        }
      ]
    },
    {
      "cell_type": "code",
      "source": [
        "print(tf.rank(tensor_three_d))"
      ],
      "metadata": {
        "colab": {
          "base_uri": "https://localhost:8080/"
        },
        "id": "nrXbC_LLGJzU",
        "outputId": "43152aa2-9b99-4bcb-bd86-6cd76f000977"
      },
      "execution_count": 35,
      "outputs": [
        {
          "output_type": "stream",
          "name": "stdout",
          "text": [
            "tf.Tensor(3, shape=(), dtype=int32)\n"
          ]
        }
      ]
    },
    {
      "cell_type": "code",
      "source": [
        "print(tf.size(tensor_three_d))"
      ],
      "metadata": {
        "colab": {
          "base_uri": "https://localhost:8080/"
        },
        "id": "khnQVRVCGJwv",
        "outputId": "58e5ffc9-c961-4e9d-80fc-980faf679506"
      },
      "execution_count": 36,
      "outputs": [
        {
          "output_type": "stream",
          "name": "stdout",
          "text": [
            "tf.Tensor(24, shape=(), dtype=int32)\n"
          ]
        }
      ]
    },
    {
      "cell_type": "code",
      "source": [
        "random_tensor = tf.random.normal(\n",
        "    shape=[3,5],\n",
        "    mean = 0.0,\n",
        "    stddev=1.0,\n",
        "    dtype=tf.dtypes.float16,\n",
        "    seed=None,\n",
        "    name=None\n",
        ")\n",
        "print(random_tensor)"
      ],
      "metadata": {
        "colab": {
          "base_uri": "https://localhost:8080/"
        },
        "id": "9hPS3Ep7EiaW",
        "outputId": "cc953165-5d1d-4b12-9688-44b90edbf8fd"
      },
      "execution_count": 38,
      "outputs": [
        {
          "output_type": "stream",
          "name": "stdout",
          "text": [
            "tf.Tensor(\n",
            "[[ 1.095   0.55    0.5747  0.3486  0.326 ]\n",
            " [ 0.766  -1.178   1.666  -1.05   -2.135 ]\n",
            " [-0.9336 -1.304   0.4133 -0.3198 -0.4204]], shape=(3, 5), dtype=float16)\n"
          ]
        }
      ]
    },
    {
      "cell_type": "code",
      "source": [
        "uniform_tensor = tf.random.uniform(\n",
        "    shape=[2,3],\n",
        "    minval=0,\n",
        "    maxval=None,\n",
        "    dtype=tf.dtypes.float32,\n",
        "    seed=None,\n",
        "    name=None\n",
        ")\n",
        "print(uniform_tensor)"
      ],
      "metadata": {
        "colab": {
          "base_uri": "https://localhost:8080/"
        },
        "id": "YWxcrlwyG1Q4",
        "outputId": "dcd7f13d-ed54-4156-c5c9-d32188a605c7"
      },
      "execution_count": 39,
      "outputs": [
        {
          "output_type": "stream",
          "name": "stdout",
          "text": [
            "tf.Tensor(\n",
            "[[0.7280892  0.95522344 0.64577496]\n",
            " [0.7429416  0.01275849 0.1685934 ]], shape=(2, 3), dtype=float32)\n"
          ]
        }
      ]
    },
    {
      "cell_type": "code",
      "source": [
        "tf.random.set_seed(1)\n",
        "print(tf.random.uniform([1]))\n",
        "print(tf.random.uniform([1]))"
      ],
      "metadata": {
        "colab": {
          "base_uri": "https://localhost:8080/"
        },
        "id": "fvChMFbWG1PA",
        "outputId": "8603f0af-19b0-4792-b97f-308d894252b7"
      },
      "execution_count": 46,
      "outputs": [
        {
          "output_type": "stream",
          "name": "stdout",
          "text": [
            "tf.Tensor([0.16513085], shape=(1,), dtype=float32)\n",
            "tf.Tensor([0.51010704], shape=(1,), dtype=float32)\n"
          ]
        }
      ]
    },
    {
      "cell_type": "code",
      "source": [
        "tf.random.set_seed(1)\n",
        "print(tf.random.uniform([1]))\n",
        "print(tf.random.uniform([1]))"
      ],
      "metadata": {
        "colab": {
          "base_uri": "https://localhost:8080/"
        },
        "id": "iZESaYb-G1Mq",
        "outputId": "43284418-b9d0-4a90-84b1-3c1314aa88ef"
      },
      "execution_count": 49,
      "outputs": [
        {
          "output_type": "stream",
          "name": "stdout",
          "text": [
            "tf.Tensor([0.16513085], shape=(1,), dtype=float32)\n",
            "tf.Tensor([0.51010704], shape=(1,), dtype=float32)\n"
          ]
        }
      ]
    },
    {
      "cell_type": "code",
      "source": [],
      "metadata": {
        "id": "OUs4UhkdG1KW"
      },
      "execution_count": null,
      "outputs": []
    }
  ]
}